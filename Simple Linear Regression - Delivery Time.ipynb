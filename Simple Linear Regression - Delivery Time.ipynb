{
 "cells": [
  {
   "cell_type": "markdown",
   "id": "11ea79c5",
   "metadata": {},
   "source": [
    "# 1] Import Libraries"
   ]
  },
  {
   "cell_type": "code",
   "execution_count": 7,
   "id": "3e1b4c23",
   "metadata": {
    "ExecuteTime": {
     "end_time": "2021-11-14T14:16:37.437946Z",
     "start_time": "2021-11-14T14:16:37.430945Z"
    }
   },
   "outputs": [],
   "source": [
    "import pandas as pd \n",
    "import seaborn as sns\n",
    "import matplotlib.pyplot as plt\n",
    "import warnings\n",
    "warnings.filterwarnings('ignore')"
   ]
  },
  {
   "cell_type": "markdown",
   "id": "990ad599",
   "metadata": {},
   "source": [
    "# 2] Import Datasets"
   ]
  },
  {
   "cell_type": "code",
   "execution_count": 3,
   "id": "50d4aa2f",
   "metadata": {
    "ExecuteTime": {
     "end_time": "2021-11-14T14:13:28.157661Z",
     "start_time": "2021-11-14T14:13:28.118289Z"
    }
   },
   "outputs": [
    {
     "data": {
      "text/html": [
       "<div>\n",
       "<style scoped>\n",
       "    .dataframe tbody tr th:only-of-type {\n",
       "        vertical-align: middle;\n",
       "    }\n",
       "\n",
       "    .dataframe tbody tr th {\n",
       "        vertical-align: top;\n",
       "    }\n",
       "\n",
       "    .dataframe thead th {\n",
       "        text-align: right;\n",
       "    }\n",
       "</style>\n",
       "<table border=\"1\" class=\"dataframe\">\n",
       "  <thead>\n",
       "    <tr style=\"text-align: right;\">\n",
       "      <th></th>\n",
       "      <th>Delivery Time</th>\n",
       "      <th>Sorting Time</th>\n",
       "    </tr>\n",
       "  </thead>\n",
       "  <tbody>\n",
       "    <tr>\n",
       "      <th>0</th>\n",
       "      <td>21.00</td>\n",
       "      <td>10</td>\n",
       "    </tr>\n",
       "    <tr>\n",
       "      <th>1</th>\n",
       "      <td>13.50</td>\n",
       "      <td>4</td>\n",
       "    </tr>\n",
       "    <tr>\n",
       "      <th>2</th>\n",
       "      <td>19.75</td>\n",
       "      <td>6</td>\n",
       "    </tr>\n",
       "    <tr>\n",
       "      <th>3</th>\n",
       "      <td>24.00</td>\n",
       "      <td>9</td>\n",
       "    </tr>\n",
       "    <tr>\n",
       "      <th>4</th>\n",
       "      <td>29.00</td>\n",
       "      <td>10</td>\n",
       "    </tr>\n",
       "  </tbody>\n",
       "</table>\n",
       "</div>"
      ],
      "text/plain": [
       "   Delivery Time  Sorting Time\n",
       "0          21.00            10\n",
       "1          13.50             4\n",
       "2          19.75             6\n",
       "3          24.00             9\n",
       "4          29.00            10"
      ]
     },
     "execution_count": 3,
     "metadata": {},
     "output_type": "execute_result"
    }
   ],
   "source": [
    "delivery_time_data=pd.read_csv(\"delivery_time.csv\")\n",
    "delivery_time_data.head()"
   ]
  },
  {
   "cell_type": "markdown",
   "id": "11dcb833",
   "metadata": {},
   "source": [
    "# 3]Data Understanding"
   ]
  },
  {
   "cell_type": "code",
   "execution_count": 8,
   "id": "f8b6ee6d",
   "metadata": {
    "ExecuteTime": {
     "end_time": "2021-11-14T14:17:14.366649Z",
     "start_time": "2021-11-14T14:17:14.349553Z"
    }
   },
   "outputs": [
    {
     "data": {
      "text/plain": [
       "(21, 2)"
      ]
     },
     "execution_count": 8,
     "metadata": {},
     "output_type": "execute_result"
    }
   ],
   "source": [
    "delivery_time_data.shape"
   ]
  },
  {
   "cell_type": "code",
   "execution_count": 9,
   "id": "7fef466d",
   "metadata": {
    "ExecuteTime": {
     "end_time": "2021-11-14T14:17:14.711132Z",
     "start_time": "2021-11-14T14:17:14.702122Z"
    }
   },
   "outputs": [
    {
     "data": {
      "text/plain": [
       "Delivery Time    float64\n",
       "Sorting Time       int64\n",
       "dtype: object"
      ]
     },
     "execution_count": 9,
     "metadata": {},
     "output_type": "execute_result"
    }
   ],
   "source": [
    "delivery_time_data.dtypes"
   ]
  },
  {
   "cell_type": "code",
   "execution_count": 10,
   "id": "d2f58fe7",
   "metadata": {
    "ExecuteTime": {
     "end_time": "2021-11-14T14:17:14.916194Z",
     "start_time": "2021-11-14T14:17:14.909193Z"
    }
   },
   "outputs": [
    {
     "data": {
      "text/plain": [
       "Delivery Time    0\n",
       "Sorting Time     0\n",
       "dtype: int64"
      ]
     },
     "execution_count": 10,
     "metadata": {},
     "output_type": "execute_result"
    }
   ],
   "source": [
    "delivery_time_data.isna().sum()"
   ]
  },
  {
   "cell_type": "code",
   "execution_count": 38,
   "id": "6a281fe4",
   "metadata": {
    "ExecuteTime": {
     "end_time": "2021-11-14T16:02:36.236606Z",
     "start_time": "2021-11-14T16:02:36.194090Z"
    }
   },
   "outputs": [
    {
     "data": {
      "text/html": [
       "<div>\n",
       "<style scoped>\n",
       "    .dataframe tbody tr th:only-of-type {\n",
       "        vertical-align: middle;\n",
       "    }\n",
       "\n",
       "    .dataframe tbody tr th {\n",
       "        vertical-align: top;\n",
       "    }\n",
       "\n",
       "    .dataframe thead th {\n",
       "        text-align: right;\n",
       "    }\n",
       "</style>\n",
       "<table border=\"1\" class=\"dataframe\">\n",
       "  <thead>\n",
       "    <tr style=\"text-align: right;\">\n",
       "      <th></th>\n",
       "      <th>Delivery Time</th>\n",
       "      <th>Sorting Time</th>\n",
       "    </tr>\n",
       "  </thead>\n",
       "  <tbody>\n",
       "    <tr>\n",
       "      <th>count</th>\n",
       "      <td>21.000000</td>\n",
       "      <td>21.000000</td>\n",
       "    </tr>\n",
       "    <tr>\n",
       "      <th>mean</th>\n",
       "      <td>16.790952</td>\n",
       "      <td>6.190476</td>\n",
       "    </tr>\n",
       "    <tr>\n",
       "      <th>std</th>\n",
       "      <td>5.074901</td>\n",
       "      <td>2.542028</td>\n",
       "    </tr>\n",
       "    <tr>\n",
       "      <th>min</th>\n",
       "      <td>8.000000</td>\n",
       "      <td>2.000000</td>\n",
       "    </tr>\n",
       "    <tr>\n",
       "      <th>25%</th>\n",
       "      <td>13.500000</td>\n",
       "      <td>4.000000</td>\n",
       "    </tr>\n",
       "    <tr>\n",
       "      <th>50%</th>\n",
       "      <td>17.830000</td>\n",
       "      <td>6.000000</td>\n",
       "    </tr>\n",
       "    <tr>\n",
       "      <th>75%</th>\n",
       "      <td>19.750000</td>\n",
       "      <td>8.000000</td>\n",
       "    </tr>\n",
       "    <tr>\n",
       "      <th>max</th>\n",
       "      <td>29.000000</td>\n",
       "      <td>10.000000</td>\n",
       "    </tr>\n",
       "  </tbody>\n",
       "</table>\n",
       "</div>"
      ],
      "text/plain": [
       "       Delivery Time  Sorting Time\n",
       "count      21.000000     21.000000\n",
       "mean       16.790952      6.190476\n",
       "std         5.074901      2.542028\n",
       "min         8.000000      2.000000\n",
       "25%        13.500000      4.000000\n",
       "50%        17.830000      6.000000\n",
       "75%        19.750000      8.000000\n",
       "max        29.000000     10.000000"
      ]
     },
     "execution_count": 38,
     "metadata": {},
     "output_type": "execute_result"
    }
   ],
   "source": [
    "delivery_time_data.describe()"
   ]
  },
  {
   "cell_type": "markdown",
   "id": "58296ca3",
   "metadata": {},
   "source": [
    "# Inference\n",
    "\n",
    "1)The shape of the data set is (21,2)\n",
    "\n",
    "2)There is no null value and data types are assigned correctly\n",
    "\n",
    "3)There is no need to do data cleaning process"
   ]
  },
  {
   "cell_type": "markdown",
   "id": "280af0d6",
   "metadata": {},
   "source": [
    "# 4] Assumptions Check"
   ]
  },
  {
   "cell_type": "markdown",
   "id": "f3059ea3",
   "metadata": {},
   "source": [
    "## Linearity check"
   ]
  },
  {
   "cell_type": "code",
   "execution_count": 15,
   "id": "d0bf6bf2",
   "metadata": {
    "ExecuteTime": {
     "end_time": "2021-11-14T14:24:00.557275Z",
     "start_time": "2021-11-14T14:24:00.206196Z"
    }
   },
   "outputs": [
    {
     "data": {
      "image/png": "[encoded data removed]",
      "text/plain": [
       "<Figure size 360x360 with 1 Axes>"
      ]
     },
     "metadata": {
      "needs_background": "light"
     },
     "output_type": "display_data"
    }
   ],
   "source": [
    "sns.lmplot(y='Delivery Time',x='Sorting Time',data=delivery_time_data)\n",
    "plt.show()"
   ]
  },
  {
   "cell_type": "markdown",
   "id": "b9da02cb",
   "metadata": {},
   "source": [
    "## Normality Check"
   ]
  },
  {
   "cell_type": "code",
   "execution_count": 17,
   "id": "994704bc",
   "metadata": {
    "ExecuteTime": {
     "end_time": "2021-11-14T14:24:47.521296Z",
     "start_time": "2021-11-14T14:24:47.286764Z"
    }
   },
   "outputs": [
    {
     "data": {
      "image/png": "[encoded data removed]",
      "text/plain": [
       "<Figure size 432x288 with 1 Axes>"
      ]
     },
     "metadata": {
      "needs_background": "light"
     },
     "output_type": "display_data"
    }
   ],
   "source": [
    "sns.distplot(a=delivery_time_data['Delivery Time'],hist=False)\n",
    "plt.show()"
   ]
  },
  {
   "cell_type": "code",
   "execution_count": 40,
   "id": "1ac48041",
   "metadata": {
    "ExecuteTime": {
     "end_time": "2021-11-14T16:06:05.181313Z",
     "start_time": "2021-11-14T16:06:05.153971Z"
    }
   },
   "outputs": [
    {
     "data": {
      "text/html": [
       "<div>\n",
       "<style scoped>\n",
       "    .dataframe tbody tr th:only-of-type {\n",
       "        vertical-align: middle;\n",
       "    }\n",
       "\n",
       "    .dataframe tbody tr th {\n",
       "        vertical-align: top;\n",
       "    }\n",
       "\n",
       "    .dataframe thead th {\n",
       "        text-align: right;\n",
       "    }\n",
       "</style>\n",
       "<table border=\"1\" class=\"dataframe\">\n",
       "  <thead>\n",
       "    <tr style=\"text-align: right;\">\n",
       "      <th></th>\n",
       "      <th>Delivery Time</th>\n",
       "      <th>Sorting Time</th>\n",
       "    </tr>\n",
       "  </thead>\n",
       "  <tbody>\n",
       "    <tr>\n",
       "      <th>Delivery Time</th>\n",
       "      <td>1.000000</td>\n",
       "      <td>0.825997</td>\n",
       "    </tr>\n",
       "    <tr>\n",
       "      <th>Sorting Time</th>\n",
       "      <td>0.825997</td>\n",
       "      <td>1.000000</td>\n",
       "    </tr>\n",
       "  </tbody>\n",
       "</table>\n",
       "</div>"
      ],
      "text/plain": [
       "               Delivery Time  Sorting Time\n",
       "Delivery Time       1.000000      0.825997\n",
       "Sorting Time        0.825997      1.000000"
      ]
     },
     "execution_count": 40,
     "metadata": {},
     "output_type": "execute_result"
    }
   ],
   "source": [
    "delivery_time_data.corr()"
   ]
  },
  {
   "cell_type": "markdown",
   "id": "ae9e8379",
   "metadata": {},
   "source": [
    "# Inference\n",
    "\n",
    "1)From the above plots its is clear that the input and output data are almost linear.\n",
    "\n",
    "2)From the correlation table, it is clear that the strength of correlation is good.\n",
    "\n",
    "3)since, there is only one input,multicollinearity doesn't occur.\n",
    "\n",
    "Hence we can use built linear regression model"
   ]
  },
  {
   "cell_type": "markdown",
   "id": "fd799c8d",
   "metadata": {},
   "source": [
    "# 5] Model Building"
   ]
  },
  {
   "cell_type": "code",
   "execution_count": 18,
   "id": "a74acbaa",
   "metadata": {
    "ExecuteTime": {
     "end_time": "2021-11-14T15:24:21.150357Z",
     "start_time": "2021-11-14T15:24:20.960702Z"
    }
   },
   "outputs": [],
   "source": [
    "import statsmodels.formula.api as smf"
   ]
  },
  {
   "cell_type": "code",
   "execution_count": 32,
   "id": "bfe7ab18",
   "metadata": {
    "ExecuteTime": {
     "end_time": "2021-11-14T15:49:56.711313Z",
     "start_time": "2021-11-14T15:49:56.697290Z"
    }
   },
   "outputs": [],
   "source": [
    "x=delivery_time_data[['Sorting Time']]\n",
    "y=delivery_time_data[['Delivery Time']]"
   ]
  },
  {
   "cell_type": "code",
   "execution_count": 33,
   "id": "138283c6",
   "metadata": {
    "ExecuteTime": {
     "end_time": "2021-11-14T15:49:57.543365Z",
     "start_time": "2021-11-14T15:49:57.529371Z"
    }
   },
   "outputs": [],
   "source": [
    "linear_model=smf.ols(formula='y~x',data=delivery_time_data).fit()"
   ]
  },
  {
   "cell_type": "code",
   "execution_count": 34,
   "id": "e989d2c8",
   "metadata": {
    "ExecuteTime": {
     "end_time": "2021-11-14T15:49:58.483823Z",
     "start_time": "2021-11-14T15:49:58.464261Z"
    }
   },
   "outputs": [
    {
     "data": {
      "text/plain": [
       "Intercept    6.582734\n",
       "x            1.649020\n",
       "dtype: float64"
      ]
     },
     "execution_count": 34,
     "metadata": {},
     "output_type": "execute_result"
    }
   ],
   "source": [
    "linear_model.params"
   ]
  },
  {
   "cell_type": "markdown",
   "id": "3062bdef",
   "metadata": {},
   "source": [
    "# 6] Model Evaluation"
   ]
  },
  {
   "cell_type": "code",
   "execution_count": 35,
   "id": "0307f1ed",
   "metadata": {
    "ExecuteTime": {
     "end_time": "2021-11-14T15:49:59.489816Z",
     "start_time": "2021-11-14T15:49:59.472813Z"
    }
   },
   "outputs": [],
   "source": [
    "y_pred=linear_model.predict(x)"
   ]
  },
  {
   "cell_type": "code",
   "execution_count": 36,
   "id": "35f06f22",
   "metadata": {
    "ExecuteTime": {
     "end_time": "2021-11-14T15:52:29.292265Z",
     "start_time": "2021-11-14T15:52:29.273272Z"
    }
   },
   "outputs": [
    {
     "name": "stdout",
     "output_type": "stream",
     "text": [
      "Mean Squared Error is  : 7.793311548584062\n",
      "R2 score is            : 0.6822714748417231\n"
     ]
    }
   ],
   "source": [
    "from sklearn.metrics import mean_squared_error,r2_score\n",
    "print('Mean Squared Error is  :',mean_squared_error(y,y_pred))\n",
    "print('R2 score is            :',r2_score(y,y_pred))"
   ]
  },
  {
   "cell_type": "markdown",
   "id": "b2cbdb62",
   "metadata": {
    "ExecuteTime": {
     "end_time": "2021-11-14T15:53:01.073011Z",
     "start_time": "2021-11-14T15:53:01.064995Z"
    }
   },
   "source": [
    "# Inference\n",
    "\n",
    "For a better model, the mean sqaure value should be close to zero, and R2 score should be close to 1"
   ]
  }
 ],
 "metadata": {
  "kernelspec": {
   "display_name": "Python 3",
   "language": "python",
   "name": "python3"
  },
  "language_info": {
   "codemirror_mode": {
    "name": "ipython",
    "version": 3
   },
   "file_extension": ".py",
   "mimetype": "text/x-python",
   "name": "python",
   "nbconvert_exporter": "python",
   "pygments_lexer": "ipython3",
   "version": "3.8.8"
  },
  "varInspector": {
   "cols": {
    "lenName": 16,
    "lenType": 16,
    "lenVar": 40
   },
   "kernels_config": {
    "python": {
     "delete_cmd_postfix": "",
     "delete_cmd_prefix": "del ",
     "library": "var_list.py",
     "varRefreshCmd": "print(var_dic_list())"
    },
    "r": {
     "delete_cmd_postfix": ") ",
     "delete_cmd_prefix": "rm(",
     "library": "var_list.r",
     "varRefreshCmd": "cat(var_dic_list()) "
    }
   },
   "types_to_exclude": [
    "module",
    "function",
    "builtin_function_or_method",
    "instance",
    "_Feature"
   ],
   "window_display": false
  }
 },
 "nbformat": 4,
 "nbformat_minor": 5
}
