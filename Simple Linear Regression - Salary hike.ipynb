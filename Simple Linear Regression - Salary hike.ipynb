{
 "cells": [
  {
   "cell_type": "markdown",
   "id": "7f16f295",
   "metadata": {},
   "source": [
    "# 1] Import Libraries"
   ]
  },
  {
   "cell_type": "code",
   "execution_count": 1,
   "id": "621686a4",
   "metadata": {
    "ExecuteTime": {
     "end_time": "2021-11-15T03:53:09.214109Z",
     "start_time": "2021-11-15T03:53:07.783602Z"
    }
   },
   "outputs": [],
   "source": [
    "import pandas as pd \n",
    "import seaborn as sns\n",
    "import matplotlib.pyplot as plt\n",
    "import warnings\n",
    "warnings.filterwarnings('ignore')"
   ]
  },
  {
   "cell_type": "markdown",
   "id": "42ce407b",
   "metadata": {},
   "source": [
    "# 2] Import Datasets"
   ]
  },
  {
   "cell_type": "code",
   "execution_count": 2,
   "id": "ab7c486f",
   "metadata": {
    "ExecuteTime": {
     "end_time": "2021-11-15T03:53:09.245794Z",
     "start_time": "2021-11-15T03:53:09.215109Z"
    }
   },
   "outputs": [
    {
     "data": {
      "text/html": [
       "<div>\n",
       "<style scoped>\n",
       "    .dataframe tbody tr th:only-of-type {\n",
       "        vertical-align: middle;\n",
       "    }\n",
       "\n",
       "    .dataframe tbody tr th {\n",
       "        vertical-align: top;\n",
       "    }\n",
       "\n",
       "    .dataframe thead th {\n",
       "        text-align: right;\n",
       "    }\n",
       "</style>\n",
       "<table border=\"1\" class=\"dataframe\">\n",
       "  <thead>\n",
       "    <tr style=\"text-align: right;\">\n",
       "      <th></th>\n",
       "      <th>YearsExperience</th>\n",
       "      <th>Salary</th>\n",
       "    </tr>\n",
       "  </thead>\n",
       "  <tbody>\n",
       "    <tr>\n",
       "      <th>0</th>\n",
       "      <td>1.1</td>\n",
       "      <td>39343.0</td>\n",
       "    </tr>\n",
       "    <tr>\n",
       "      <th>1</th>\n",
       "      <td>1.3</td>\n",
       "      <td>46205.0</td>\n",
       "    </tr>\n",
       "    <tr>\n",
       "      <th>2</th>\n",
       "      <td>1.5</td>\n",
       "      <td>37731.0</td>\n",
       "    </tr>\n",
       "    <tr>\n",
       "      <th>3</th>\n",
       "      <td>2.0</td>\n",
       "      <td>43525.0</td>\n",
       "    </tr>\n",
       "    <tr>\n",
       "      <th>4</th>\n",
       "      <td>2.2</td>\n",
       "      <td>39891.0</td>\n",
       "    </tr>\n",
       "  </tbody>\n",
       "</table>\n",
       "</div>"
      ],
      "text/plain": [
       "   YearsExperience   Salary\n",
       "0              1.1  39343.0\n",
       "1              1.3  46205.0\n",
       "2              1.5  37731.0\n",
       "3              2.0  43525.0\n",
       "4              2.2  39891.0"
      ]
     },
     "execution_count": 2,
     "metadata": {},
     "output_type": "execute_result"
    }
   ],
   "source": [
    "salary_data=pd.read_csv('Salary_Data.csv')\n",
    "salary_data.head()"
   ]
  },
  {
   "cell_type": "markdown",
   "id": "423edd42",
   "metadata": {},
   "source": [
    "# 3] Data Understanding"
   ]
  },
  {
   "cell_type": "code",
   "execution_count": 3,
   "id": "f8e174e4",
   "metadata": {
    "ExecuteTime": {
     "end_time": "2021-11-15T03:53:09.261793Z",
     "start_time": "2021-11-15T03:53:09.246794Z"
    }
   },
   "outputs": [
    {
     "data": {
      "text/plain": [
       "(30, 2)"
      ]
     },
     "execution_count": 3,
     "metadata": {},
     "output_type": "execute_result"
    }
   ],
   "source": [
    "salary_data.shape"
   ]
  },
  {
   "cell_type": "code",
   "execution_count": 4,
   "id": "f1dfdd7d",
   "metadata": {
    "ExecuteTime": {
     "end_time": "2021-11-15T03:53:09.277160Z",
     "start_time": "2021-11-15T03:53:09.262793Z"
    }
   },
   "outputs": [
    {
     "data": {
      "text/plain": [
       "YearsExperience    float64\n",
       "Salary             float64\n",
       "dtype: object"
      ]
     },
     "execution_count": 4,
     "metadata": {},
     "output_type": "execute_result"
    }
   ],
   "source": [
    "salary_data.dtypes"
   ]
  },
  {
   "cell_type": "code",
   "execution_count": 5,
   "id": "0a2e4f74",
   "metadata": {
    "ExecuteTime": {
     "end_time": "2021-11-15T03:53:09.293166Z",
     "start_time": "2021-11-15T03:53:09.278160Z"
    }
   },
   "outputs": [
    {
     "data": {
      "text/plain": [
       "YearsExperience    0\n",
       "Salary             0\n",
       "dtype: int64"
      ]
     },
     "execution_count": 5,
     "metadata": {},
     "output_type": "execute_result"
    }
   ],
   "source": [
    "salary_data.isna().sum()"
   ]
  },
  {
   "cell_type": "code",
   "execution_count": 6,
   "id": "b134af47",
   "metadata": {
    "ExecuteTime": {
     "end_time": "2021-11-15T03:53:09.308170Z",
     "start_time": "2021-11-15T03:53:09.294167Z"
    }
   },
   "outputs": [
    {
     "data": {
      "text/html": [
       "<div>\n",
       "<style scoped>\n",
       "    .dataframe tbody tr th:only-of-type {\n",
       "        vertical-align: middle;\n",
       "    }\n",
       "\n",
       "    .dataframe tbody tr th {\n",
       "        vertical-align: top;\n",
       "    }\n",
       "\n",
       "    .dataframe thead th {\n",
       "        text-align: right;\n",
       "    }\n",
       "</style>\n",
       "<table border=\"1\" class=\"dataframe\">\n",
       "  <thead>\n",
       "    <tr style=\"text-align: right;\">\n",
       "      <th></th>\n",
       "      <th>YearsExperience</th>\n",
       "      <th>Salary</th>\n",
       "    </tr>\n",
       "  </thead>\n",
       "  <tbody>\n",
       "    <tr>\n",
       "      <th>count</th>\n",
       "      <td>30.000000</td>\n",
       "      <td>30.000000</td>\n",
       "    </tr>\n",
       "    <tr>\n",
       "      <th>mean</th>\n",
       "      <td>5.313333</td>\n",
       "      <td>76003.000000</td>\n",
       "    </tr>\n",
       "    <tr>\n",
       "      <th>std</th>\n",
       "      <td>2.837888</td>\n",
       "      <td>27414.429785</td>\n",
       "    </tr>\n",
       "    <tr>\n",
       "      <th>min</th>\n",
       "      <td>1.100000</td>\n",
       "      <td>37731.000000</td>\n",
       "    </tr>\n",
       "    <tr>\n",
       "      <th>25%</th>\n",
       "      <td>3.200000</td>\n",
       "      <td>56720.750000</td>\n",
       "    </tr>\n",
       "    <tr>\n",
       "      <th>50%</th>\n",
       "      <td>4.700000</td>\n",
       "      <td>65237.000000</td>\n",
       "    </tr>\n",
       "    <tr>\n",
       "      <th>75%</th>\n",
       "      <td>7.700000</td>\n",
       "      <td>100544.750000</td>\n",
       "    </tr>\n",
       "    <tr>\n",
       "      <th>max</th>\n",
       "      <td>10.500000</td>\n",
       "      <td>122391.000000</td>\n",
       "    </tr>\n",
       "  </tbody>\n",
       "</table>\n",
       "</div>"
      ],
      "text/plain": [
       "       YearsExperience         Salary\n",
       "count        30.000000      30.000000\n",
       "mean          5.313333   76003.000000\n",
       "std           2.837888   27414.429785\n",
       "min           1.100000   37731.000000\n",
       "25%           3.200000   56720.750000\n",
       "50%           4.700000   65237.000000\n",
       "75%           7.700000  100544.750000\n",
       "max          10.500000  122391.000000"
      ]
     },
     "execution_count": 6,
     "metadata": {},
     "output_type": "execute_result"
    }
   ],
   "source": [
    "salary_data.describe()"
   ]
  },
  {
   "cell_type": "markdown",
   "id": "da1eab04",
   "metadata": {},
   "source": [
    "# Inference\n",
    "\n",
    "1)The shape of the data set is (30,2)\n",
    "\n",
    "2)There is no null value and data types are assigned correctly\n",
    "\n",
    "3)There is no need to do data cleaning process"
   ]
  },
  {
   "cell_type": "markdown",
   "id": "db5f607a",
   "metadata": {},
   "source": [
    "# 4] Assumptions Check"
   ]
  },
  {
   "cell_type": "markdown",
   "id": "b52b9ad3",
   "metadata": {},
   "source": [
    "## Linearity Check"
   ]
  },
  {
   "cell_type": "code",
   "execution_count": 9,
   "id": "bbc23f95",
   "metadata": {
    "ExecuteTime": {
     "end_time": "2021-11-15T03:54:49.455343Z",
     "start_time": "2021-11-15T03:54:49.178845Z"
    }
   },
   "outputs": [
    {
     "data": {
      "text/plain": [
       "<seaborn.axisgrid.FacetGrid at 0x21a7e91ed60>"
      ]
     },
     "execution_count": 9,
     "metadata": {},
     "output_type": "execute_result"
    },
    {
     "data": {
      "image/png": "[encoded data removed]",
      "text/plain": [
       "<Figure size 360x360 with 1 Axes>"
      ]
     },
     "metadata": {
      "needs_background": "light"
     },
     "output_type": "display_data"
    }
   ],
   "source": [
    "sns.lmplot(x='YearsExperience',y='Salary',data=salary_data)"
   ]
  },
  {
   "cell_type": "markdown",
   "id": "55e1c377",
   "metadata": {},
   "source": [
    "## Normality Check"
   ]
  },
  {
   "cell_type": "code",
   "execution_count": 10,
   "id": "016892a8",
   "metadata": {
    "ExecuteTime": {
     "end_time": "2021-11-15T03:56:39.049975Z",
     "start_time": "2021-11-15T03:56:38.906912Z"
    },
    "scrolled": true
   },
   "outputs": [
    {
     "data": {
      "text/plain": [
       "<AxesSubplot:xlabel='Salary', ylabel='Density'>"
      ]
     },
     "execution_count": 10,
     "metadata": {},
     "output_type": "execute_result"
    },
    {
     "data": {
      "image/png": "[encoded data removed]",
      "text/plain": [
       "<Figure size 432x288 with 1 Axes>"
      ]
     },
     "metadata": {
      "needs_background": "light"
     },
     "output_type": "display_data"
    }
   ],
   "source": [
    "sns.distplot(a=salary_data['Salary'],hist=False)"
   ]
  },
  {
   "cell_type": "code",
   "execution_count": 26,
   "id": "8c2b6c61",
   "metadata": {
    "ExecuteTime": {
     "end_time": "2021-11-15T04:08:47.653867Z",
     "start_time": "2021-11-15T04:08:47.555152Z"
    }
   },
   "outputs": [
    {
     "data": {
      "text/plain": [
       "<AxesSubplot:xlabel='YearsExperience', ylabel='Density'>"
      ]
     },
     "execution_count": 26,
     "metadata": {},
     "output_type": "execute_result"
    },
    {
     "data": {
      "image/png": "[encoded data removed]",
      "text/plain": [
       "<Figure size 432x288 with 1 Axes>"
      ]
     },
     "metadata": {
      "needs_background": "light"
     },
     "output_type": "display_data"
    }
   ],
   "source": [
    "sns.distplot(a=salary_data['YearsExperience'],hist=False)"
   ]
  },
  {
   "cell_type": "code",
   "execution_count": 11,
   "id": "7bdde268",
   "metadata": {
    "ExecuteTime": {
     "end_time": "2021-11-15T03:57:08.995244Z",
     "start_time": "2021-11-15T03:57:08.978227Z"
    },
    "scrolled": true
   },
   "outputs": [
    {
     "data": {
      "text/html": [
       "<div>\n",
       "<style scoped>\n",
       "    .dataframe tbody tr th:only-of-type {\n",
       "        vertical-align: middle;\n",
       "    }\n",
       "\n",
       "    .dataframe tbody tr th {\n",
       "        vertical-align: top;\n",
       "    }\n",
       "\n",
       "    .dataframe thead th {\n",
       "        text-align: right;\n",
       "    }\n",
       "</style>\n",
       "<table border=\"1\" class=\"dataframe\">\n",
       "  <thead>\n",
       "    <tr style=\"text-align: right;\">\n",
       "      <th></th>\n",
       "      <th>YearsExperience</th>\n",
       "      <th>Salary</th>\n",
       "    </tr>\n",
       "  </thead>\n",
       "  <tbody>\n",
       "    <tr>\n",
       "      <th>YearsExperience</th>\n",
       "      <td>1.000000</td>\n",
       "      <td>0.978242</td>\n",
       "    </tr>\n",
       "    <tr>\n",
       "      <th>Salary</th>\n",
       "      <td>0.978242</td>\n",
       "      <td>1.000000</td>\n",
       "    </tr>\n",
       "  </tbody>\n",
       "</table>\n",
       "</div>"
      ],
      "text/plain": [
       "                 YearsExperience    Salary\n",
       "YearsExperience         1.000000  0.978242\n",
       "Salary                  0.978242  1.000000"
      ]
     },
     "execution_count": 11,
     "metadata": {},
     "output_type": "execute_result"
    }
   ],
   "source": [
    "salary_data.corr()"
   ]
  },
  {
   "cell_type": "markdown",
   "id": "b0110664",
   "metadata": {},
   "source": [
    "# Inference\n",
    "\n",
    "1)From the above plots its is clear that the input and output data are almost linear and positively correlated.\n",
    "\n",
    "2)From the correlation table, it is clear that the strength of correlation is good.\n",
    "\n",
    "3)since, there is only one input,multicollinearity doesn't occur.\n",
    "\n",
    "Hence we can use built linear regression model"
   ]
  },
  {
   "cell_type": "markdown",
   "id": "b29fb39d",
   "metadata": {},
   "source": [
    "# 5] Model Building"
   ]
  },
  {
   "cell_type": "code",
   "execution_count": 12,
   "id": "f754071e",
   "metadata": {
    "ExecuteTime": {
     "end_time": "2021-11-15T03:58:03.803074Z",
     "start_time": "2021-11-15T03:58:03.706934Z"
    }
   },
   "outputs": [],
   "source": [
    "import statsmodels.formula.api as smf"
   ]
  },
  {
   "cell_type": "code",
   "execution_count": 17,
   "id": "90873e32",
   "metadata": {
    "ExecuteTime": {
     "end_time": "2021-11-15T04:02:33.604727Z",
     "start_time": "2021-11-15T04:02:33.587060Z"
    }
   },
   "outputs": [],
   "source": [
    "x=salary_data[['YearsExperience']]\n",
    "y=salary_data[['Salary']]"
   ]
  },
  {
   "cell_type": "code",
   "execution_count": 20,
   "id": "811c830d",
   "metadata": {
    "ExecuteTime": {
     "end_time": "2021-11-15T04:03:37.414841Z",
     "start_time": "2021-11-15T04:03:37.395041Z"
    }
   },
   "outputs": [],
   "source": [
    "linear_model=smf.ols(formula='y ~ x',data=salary_data).fit()"
   ]
  },
  {
   "cell_type": "code",
   "execution_count": 21,
   "id": "562656d2",
   "metadata": {
    "ExecuteTime": {
     "end_time": "2021-11-15T04:03:38.334265Z",
     "start_time": "2021-11-15T04:03:38.314059Z"
    }
   },
   "outputs": [
    {
     "data": {
      "text/plain": [
       "Intercept    25792.200199\n",
       "x             9449.962321\n",
       "dtype: float64"
      ]
     },
     "execution_count": 21,
     "metadata": {},
     "output_type": "execute_result"
    }
   ],
   "source": [
    "linear_model.params"
   ]
  },
  {
   "cell_type": "markdown",
   "id": "1c8dfb5e",
   "metadata": {},
   "source": [
    "# Inference\n",
    "1)The value of slope is 1.649\n",
    "\n",
    "2)The value of intercept is 6.5827"
   ]
  },
  {
   "cell_type": "markdown",
   "id": "b5cfcaac",
   "metadata": {},
   "source": [
    "# 6] Model Evaluation"
   ]
  },
  {
   "cell_type": "code",
   "execution_count": 24,
   "id": "9dbd337b",
   "metadata": {
    "ExecuteTime": {
     "end_time": "2021-11-15T04:04:17.215088Z",
     "start_time": "2021-11-15T04:04:17.203085Z"
    }
   },
   "outputs": [],
   "source": [
    "y_pred=linear_model.predict(x)"
   ]
  },
  {
   "cell_type": "code",
   "execution_count": 25,
   "id": "999a5031",
   "metadata": {
    "ExecuteTime": {
     "end_time": "2021-11-15T04:04:18.865865Z",
     "start_time": "2021-11-15T04:04:18.850690Z"
    }
   },
   "outputs": [
    {
     "name": "stdout",
     "output_type": "stream",
     "text": [
      "Mean Squared Error is  : 31270951.722280968\n",
      "R2 score is            : 0.9569566641435086\n"
     ]
    }
   ],
   "source": [
    "from sklearn.metrics import mean_squared_error,r2_score\n",
    "print('Mean Squared Error is  :',mean_squared_error(y,y_pred))\n",
    "print('R2 score is            :',r2_score(y,y_pred))"
   ]
  },
  {
   "cell_type": "markdown",
   "id": "18a93b3b",
   "metadata": {},
   "source": [
    "# Inference\n",
    "\n",
    "Since, the r2 score is close to 1, the model will comparitively perform well."
   ]
  }
 ],
 "metadata": {
  "kernelspec": {
   "display_name": "Python 3",
   "language": "python",
   "name": "python3"
  },
  "language_info": {
   "codemirror_mode": {
    "name": "ipython",
    "version": 3
   },
   "file_extension": ".py",
   "mimetype": "text/x-python",
   "name": "python",
   "nbconvert_exporter": "python",
   "pygments_lexer": "ipython3",
   "version": "3.8.8"
  },
  "varInspector": {
   "cols": {
    "lenName": 16,
    "lenType": 16,
    "lenVar": 40
   },
   "kernels_config": {
    "python": {
     "delete_cmd_postfix": "",
     "delete_cmd_prefix": "del ",
     "library": "var_list.py",
     "varRefreshCmd": "print(var_dic_list())"
    },
    "r": {
     "delete_cmd_postfix": ") ",
     "delete_cmd_prefix": "rm(",
     "library": "var_list.r",
     "varRefreshCmd": "cat(var_dic_list()) "
    }
   },
   "types_to_exclude": [
    "module",
    "function",
    "builtin_function_or_method",
    "instance",
    "_Feature"
   ],
   "window_display": false
  }
 },
 "nbformat": 4,
 "nbformat_minor": 5
}
